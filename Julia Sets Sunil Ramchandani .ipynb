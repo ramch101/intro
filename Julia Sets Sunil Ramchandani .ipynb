{
 "cells": [
  {
   "cell_type": "code",
   "execution_count": 114,
   "metadata": {
    "collapsed": false
   },
   "outputs": [],
   "source": [
    "class JuliaSet():\n",
    "    \n",
    "    def __init__(self, c, n=100): # This is the data for the class - \n",
    "        self.c = c     \n",
    "        self.n = n\n",
    "    \n",
    "    def juliamap(self, z) : # This is the method for the class \n",
    "        return ( z**2 + self.c)\n",
    "    \n",
    "\n",
    "    def  iterate(self, z):  # This is the method for the class\n",
    "        m = 0\n",
    "        while (abs(z) < 3) or (m < self.n):\n",
    "            self.juliamap(z)\n",
    "            m += 1\n",
    "            if abs(z) > 2 :\n",
    "                return(m)\n",
    "            elif m >= self.n:\n",
    "                return(0)\n",
    "            \n",
    "    def create_complexplane(self,d=0.001) :\n",
    "        list1 = [ ]\n",
    "        i = -2\n",
    "        j = -2\n",
    "        while i <= 2 and j <= 2:\n",
    "            complexnumber = complex(i,j)\n",
    "            list1.append(complexnumber)\n",
    "            i = i+d\n",
    "            j=i\n",
    "        return list1    \n",
    "            \n",
    "    def set_spacing(self, d=0.001) : # This is the method for the class \n",
    "        self._d = d\n",
    "        self._complexplane = self.create_complexplane(d)\n",
    "          #  print self._complexplane  # to troubleshoot the code\n",
    "   \n",
    "    def generate1(self) :\n",
    "        self.set_spacing(1)\n",
    "        self.set = self.iterate(self._complexplane)\n",
    "        return(set)\n",
    "     \n",
    "       \n",
    "    "
   ]
  },
  {
   "cell_type": "code",
   "execution_count": 116,
   "metadata": {
    "collapsed": false
   },
   "outputs": [
    {
     "name": "stdout",
     "output_type": "stream",
     "text": [
      "None\n",
      "1\n",
      "<bound method JuliaSet.generate1 of <__main__.JuliaSet instance at 0x7f3448c39a70>>\n"
     ]
    }
   ],
   "source": [
    "inst1 = JuliaSet(10,10)\n",
    "print inst1.set_spacing(1)\n",
    "print inst1.iterate(1+4j)\n",
    "print inst1.generate1\n"
   ]
  },
  {
   "cell_type": "code",
   "execution_count": null,
   "metadata": {
    "collapsed": true
   },
   "outputs": [],
   "source": [
    "list1 = [ ]\n",
    "d=1\n",
    "i = -2\n",
    "j = -2\n",
    "while i <= 2 and j <= 2:\n",
    "    complexnumber = complex(i,j)\n",
    "    list1.append(complexnumber)\n",
    "    i = i+d\n",
    "    j=i\n",
    "    \n",
    "print list1  "
   ]
  }
 ],
 "metadata": {
  "kernelspec": {
   "display_name": "Python 2",
   "language": "python",
   "name": "python2"
  },
  "language_info": {
   "codemirror_mode": {
    "name": "ipython",
    "version": 2
   },
   "file_extension": ".py",
   "mimetype": "text/x-python",
   "name": "python",
   "nbconvert_exporter": "python",
   "pygments_lexer": "ipython2",
   "version": "2.7.9"
  },
  "name": "Julia Sets Sunil Ramchandani .ipynb"
 },
 "nbformat": 4,
 "nbformat_minor": 0
}
