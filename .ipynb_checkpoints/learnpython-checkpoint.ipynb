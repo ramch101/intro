{
 "cells": [
  {
   "cell_type": "markdown",
   "metadata": {
    "collapsed": false
   },
   "source": [
    "    Sunil Ramchandani"
   ]
  },
  {
   "cell_type": "markdown",
   "metadata": {},
   "source": [
    "The Python Syntax for following are as follows :- \n",
    "Comments is by using the \"#' symbol.\n",
    "Variables are assigned by \"=\" symbol you do not need to define the variables \n",
    "The print command is used to print variables."
   ]
  },
  {
   "cell_type": "code",
   "execution_count": 1,
   "metadata": {
    "collapsed": false
   },
   "outputs": [
    {
     "name": "stdout",
     "output_type": "stream",
     "text": [
      " This is the value assigned to the variable\n"
     ]
    }
   ],
   "source": [
    "# This is example of a comment\n",
    "var_name = \" This is the value assigned to the variable\"\n",
    "print var_name"
   ]
  },
  {
   "cell_type": "markdown",
   "metadata": {},
   "source": []
  },
  {
   "cell_type": "markdown",
   "metadata": {},
   "source": [
    "The different data types in python are as follows :-\n",
    "boolean - This is a basic data type with values True & False.\n",
    "integer - These are signed numerical values.\n",
    "float - These are floating point real values\n",
    "string - This is a basic datatype that can be created by single or double quotes \n",
    "list -  A list is similar to a tupule with a difference that the contents can be modified\n",
    "tupule - A tupule is a sequence datatype similar to an array.\n",
    "dictionary - It is a a collection of key value pairs, it is required that the key values are unique in a dictionary variable.\n",
    "set - A set is a unordered collection of data with no duplicate elements"
   ]
  },
  {
   "cell_type": "code",
   "execution_count": 15,
   "metadata": {
    "collapsed": false
   },
   "outputs": [
    {
     "name": "stdout",
     "output_type": "stream",
     "text": [
      "This value of boolean variable is TRUE\n",
      "The value of the integer variable is -100\n",
      "The value of the float variable is 100.0\n",
      "The value of the string variable is Hundred units\n",
      "The value of the list variable is [100.0, -100, 'Hundred Units']\n",
      "The value of the tupule variable is (100.0, -100, 'Hundred Units')\n",
      "The value of the dictionary variable is {'integer': -100, 'float': 100.0, 'string': 'Hundred Units'}\n",
      "The value of the dictionary key variable reference is 100.0\n",
      "The value of the set variable is [(100.0, -100, 'Hundred Units')]\n"
     ]
    }
   ],
   "source": [
    "example_boolean_value = True\n",
    "if (example_boolean_value) :\n",
    "    print \"This value of boolean variable is TRUE\"\n",
    "else:\n",
    "    print \" The value of boolean variable is FALSE\"\n",
    "    \n",
    "example_integer_variable = -100\n",
    "print \"The value of the integer variable is\", example_integer_variable\n",
    "\n",
    "example_float_variable = 100.00\n",
    "print \"The value of the float variable is\", example_float_variable\n",
    "\n",
    "example_string_variable = \"Hundred units\"\n",
    "print \"The value of the string variable is\", example_string_variable\n",
    "\n",
    "example_list_variable = [100.00, -100, 'Hundred Units']\n",
    "print \"The value of the list variable is\", example_list_variable\n",
    "\n",
    "example_tupule_variable = (100.00, -100, 'Hundred Units')\n",
    "print \"The value of the tupule variable is\", example_tupule_variable\n",
    "\n",
    "example_dictionary_variable = { 'float' :100.00, 'integer':-100, 'string': 'Hundred Units'}\n",
    "print \"The value of the dictionary variable is\", example_dictionary_variable\n",
    "print \"The value of the dictionary key variable reference is\", example_dictionary_variable['float']\n",
    "\n",
    "example_set_variable = [(100.00, -100, 'Hundred Units')]\n",
    "print \"The value of the set variable is\", example_set_variable"
   ]
  },
  {
   "cell_type": "markdown",
   "metadata": {},
   "source": [
    "The if then else condtion is used when we want to control the program logic based on particular condition.\n",
    "The for loop is used when we know upfront the number of times we want to repeat a particular statement/logic\n",
    "The while loop is use to repeat a particular statement/logic when until a certain condtion is met"
   ]
  },
  {
   "cell_type": "code",
   "execution_count": 20,
   "metadata": {
    "collapsed": false
   },
   "outputs": [
    {
     "name": "stdout",
     "output_type": "stream",
     "text": [
      "This value of boolean variable is TRUE\n",
      "The value if x is  0\n",
      "The value if x is  1\n",
      "The value if x is  2\n",
      "The value if x is  0\n",
      "The value if x is  1\n",
      "The value if x is  2\n",
      "The value if x is  3\n"
     ]
    }
   ],
   "source": [
    "example_boolean_value = True\n",
    "if (example_boolean_value) :\n",
    "    print \"This value of boolean variable is TRUE\"\n",
    "else:\n",
    "    print \" The value of boolean variable is FALSE\"\n",
    "    \n",
    "    \n",
    "for x in range(0, 3):\n",
    "    print \"The value if x is \", x\n",
    "    \n",
    "x = 0\n",
    "while x < 3:\n",
    "    print \"The value if x is \", x\n",
    "    x += 1\n",
    "    "
   ]
  },
  {
   "cell_type": "markdown",
   "metadata": {
    "collapsed": true
   },
   "source": [
    "This is an example of an function that uses the args and kwargs arguments\n",
    "Kwargs allows to handle named arguments that we have not defined in advance\n",
    "You would use *args when you're not sure how many arguments might be passed to your function.\n"
   ]
  },
  {
   "cell_type": "code",
   "execution_count": 37,
   "metadata": {
    "collapsed": false
   },
   "outputs": [
    {
     "name": "stdout",
     "output_type": "stream",
     "text": [
      "This is value of parameter1  Test\n",
      "This is the location and value of args parameters (0, 'Args Example')\n",
      "This is the key value of the kwargs parameters ('integer_example', -100)\n",
      "This is the key value of the kwargs parameters ('string_example', 'Hundred Units')\n",
      "None\n"
     ]
    }
   ],
   "source": [
    "def example_function(param1, *args, **kwargs):\n",
    "    print \"This is value of parameter1 \", param1\n",
    "    for args_value in enumerate(args):\n",
    "        print \"This is the location and value of args parameters\", args_value\n",
    "    for kwargs in kwargs.items():\n",
    "        print \"This is the key value of the kwargs parameters\", kwargs\n",
    "\n",
    "print example_function('Test', \"Args Example\", integer_example=-100, string_example='Hundred Units')"
   ]
  },
  {
   "cell_type": "code",
   "execution_count": null,
   "metadata": {
    "collapsed": true
   },
   "outputs": [],
   "source": []
  }
 ],
 "metadata": {
  "kernelspec": {
   "display_name": "Python 2",
   "language": "python",
   "name": "python2"
  },
  "language_info": {
   "codemirror_mode": {
    "name": "ipython",
    "version": 2
   },
   "file_extension": ".py",
   "mimetype": "text/x-python",
   "name": "python",
   "nbconvert_exporter": "python",
   "pygments_lexer": "ipython2",
   "version": "2.7.8"
  },
  "name": "learnpython.ipynb"
 },
 "nbformat": 4,
 "nbformat_minor": 0
}
