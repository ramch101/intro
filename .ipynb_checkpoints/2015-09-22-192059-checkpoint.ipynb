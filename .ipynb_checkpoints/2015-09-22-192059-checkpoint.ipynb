{
 "cells": [
  {
   "cell_type": "code",
   "execution_count": null,
   "metadata": {
    "collapsed": false
   },
   "outputs": [],
   "source": [
    "class Bear\n",
    "(object)\n",
    ":\n",
    "# subclass of object\n",
    "\"\"\"Bear as a data-type\"\"\"\n",
    "    fur = \n",
    "\"brown\"\n",
    "# class attribute\n",
    "def\n",
    "__init__\n",
    "(self, name)\n",
    ":\n",
    "# class constructor\n",
    "        self.name = name      \n",
    "# instance attribute\n",
    "def\n",
    "roar\n",
    "(self)\n",
    ":\n",
    "# instance method\n",
    "        print(\n",
    "\"I, {}, do roar.\"\n",
    ".format(self.name)"
   ]
  }
 ],
 "metadata": {
  "kernelspec": {
   "display_name": "Python 2",
   "language": "python",
   "name": "python2"
  },
  "language_info": {
   "codemirror_mode": {
    "name": "ipython",
    "version": 2
   },
   "file_extension": ".py",
   "mimetype": "text/x-python",
   "name": "python",
   "nbconvert_exporter": "python",
   "pygments_lexer": "ipython2",
   "version": "2.7.8"
  },
  "name": "2015-09-22-192059.ipynb"
 },
 "nbformat": 4,
 "nbformat_minor": 0
}
